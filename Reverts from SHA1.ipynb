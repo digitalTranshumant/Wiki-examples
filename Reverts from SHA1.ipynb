{
 "cells": [
  {
   "cell_type": "markdown",
   "metadata": {},
   "source": [
    "# Reverts from SHA1 \n",
    "Generates interactions.json\n",
    "\n",
    "Format: interactions[user1][user2]:[[pageid,timestamp,deltatime,revision_id_reverted,revision_id_reverting], another revert, etc]\n",
    "\n",
    "* user1: user reverting\n",
    "* user2: user reverted\n",
    "* pageid: page_id \n",
    "* timestamp: timestamp when the reverted version was created (done by user2)\n",
    "* deltatime: delta time from the reverted version to the reverting revision (done by user1).\n",
    "* revision_id_reverted: revision_id_reverted (by user2)\n",
    "* revision_id_reverting: revision_id_reverting (by user1)"
   ]
  },
  {
   "cell_type": "code",
   "execution_count": 1,
   "metadata": {
    "collapsed": true
   },
   "outputs": [],
   "source": [
    "import mwreverts\n",
    "import pandas as pd\n",
    "from mwtypes import Timestamp\n",
    "\n"
   ]
  },
  {
   "cell_type": "markdown",
   "metadata": {},
   "source": [
    "* revs_2017_users_more_than_10_revs.txt.gz was generated from this query: https://quarry.wmflabs.org/query/23424"
   ]
  },
  {
   "cell_type": "code",
   "execution_count": 2,
   "metadata": {
    "collapsed": true
   },
   "outputs": [],
   "source": [
    "df = pd.read_csv('revs_2017_users_more_than_10_revs.txt.gz',sep='\\t')"
   ]
  },
  {
   "cell_type": "code",
   "execution_count": 3,
   "metadata": {
    "collapsed": true
   },
   "outputs": [],
   "source": [
    "interactions = {}\n",
    "byPage = df.groupby('rev_page')\n"
   ]
  },
  {
   "cell_type": "code",
   "execution_count": null,
   "metadata": {
    "collapsed": true
   },
   "outputs": [],
   "source": [
    "print(len(byPage))\n",
    "c = 0\n",
    "for page, data in byPage :\n",
    "    c+=1\n",
    "    if c%100000==0:print(c)\n",
    "    revs = [(info['rev_sha1'],(info['rev_user'],info['rev_timestamp'],info['rev_id'])) for info in data.sort_values('rev_timestamp').to_dict(orient='records')]\n",
    "    for result in mwreverts.detect(revs):\n",
    "        for user,timestamp,rev_id in result.reverteds:\n",
    "            interactions[result.reverting[0]] = interactions.get(result.reverting[0],{})\n",
    "            interactions[result.reverting[0]][int(user)] = interactions[result.reverting[0]].get(int(user),[])\n",
    "            interactions[result.reverting[0]][int(user)].append([int(page),timestamp,Timestamp(str(result.reverting[1]))-Timestamp(str(timestamp)),result.reverting[2],rev_id])"
   ]
  },
  {
   "cell_type": "code",
   "execution_count": 5,
   "metadata": {
    "collapsed": true
   },
   "outputs": [],
   "source": [
    "import json\n",
    "with open('interactions.json','w') as f:\n",
    "    json.dump(interactions,f)"
   ]
  },
  {
   "cell_type": "code",
   "execution_count": null,
   "metadata": {
    "collapsed": true
   },
   "outputs": [],
   "source": []
  }
 ],
 "metadata": {
  "kernelspec": {
   "display_name": "Python 3",
   "language": "python",
   "name": "python3"
  },
  "language_info": {
   "codemirror_mode": {
    "name": "ipython",
    "version": 3
   },
   "file_extension": ".py",
   "mimetype": "text/x-python",
   "name": "python",
   "nbconvert_exporter": "python",
   "pygments_lexer": "ipython3",
   "version": "3.5.2"
  }
 },
 "nbformat": 4,
 "nbformat_minor": 2
}
