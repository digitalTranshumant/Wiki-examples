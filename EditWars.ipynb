{
 "cells": [
  {
   "cell_type": "markdown",
   "metadata": {},
   "source": [
    "# Check topical span of editwars"
   ]
  },
  {
   "cell_type": "markdown",
   "metadata": {},
   "source": [
    "## Load data"
   ]
  },
  {
   "cell_type": "code",
   "execution_count": 1,
   "metadata": {},
   "outputs": [],
   "source": [
    "import pandas as pd\n",
    "import networkx as nx\n",
    "\n",
    "G = nx.read_gpickle(\"WikiProjectGraphNetworkx.pickle\")"
   ]
  },
  {
   "cell_type": "code",
   "execution_count": 8,
   "metadata": {},
   "outputs": [],
   "source": [
    "df = pd.read_csv('revs_2017_users_more_than_10_revs.txt.gz',sep='\\t')"
   ]
  },
  {
   "cell_type": "code",
   "execution_count": 9,
   "metadata": {
    "collapsed": true
   },
   "outputs": [],
   "source": [
    "pages = df['rev_page'].unique()\n",
    "del df"
   ]
  },
  {
   "cell_type": "code",
   "execution_count": 10,
   "metadata": {},
   "outputs": [],
   "source": [
    "import json\n",
    "with open('namespaces.json') as f:\n",
    "    namespaces = json.load(f)"
   ]
  },
  {
   "cell_type": "code",
   "execution_count": null,
   "metadata": {},
   "outputs": [],
   "source": [
    "import json,gzip\n",
    "pagesToWikiprojectsDF = pd.read_csv('article2Wikiproject.txt.gz',sep='\\t')\n",
    "pagesToWikiprojects = {}\n",
    "n = 0\n",
    "for index,row in pagesToWikiprojectsDF.iterrows():\n",
    "        if n % 100000 ==0: print(n)\n",
    "        n+=1\n",
    "        pagesToWikiprojects[row['page_id']] = row['projects'].split(',')\n",
    "del pagesToWikiprojectsDF"
   ]
  },
  {
   "cell_type": "code",
   "execution_count": 4,
   "metadata": {},
   "outputs": [],
   "source": [
    "#import json\n",
    "#with open('pagesToWikiprojects.json','w') as f:\n",
    "    #json.dump(pagesToWikiprojects,f)\n",
    "\n",
    "#uncomment to load\n",
    "with open('pagesToWikiprojects.json') as f:\n",
    "    pagesToWikiprojects  = json.load(f)"
   ]
  },
  {
   "cell_type": "markdown",
   "metadata": {},
   "source": [
    "## Define Topic Distance metrics"
   ]
  },
  {
   "cell_type": "code",
   "execution_count": 5,
   "metadata": {},
   "outputs": [],
   "source": [
    "from itertools import combinations\n",
    "from itertools import product\n",
    "\n",
    "def distanceProjects(Graph,listProjects):\n",
    "    if len(listProjects) > 1:\n",
    "        results = []\n",
    "        for x,y in combinations(listProjects,2):\n",
    "            results.append(nx.shortest_path_length(Graph,x,y))\n",
    "        return min(results),max(results),sum(results)/len(results)\n",
    "    else:\n",
    "        return 0   "
   ]
  },
  {
   "cell_type": "code",
   "execution_count": 6,
   "metadata": {},
   "outputs": [],
   "source": [
    "def distancePages(Graph,page1,page2):\n",
    "    \"\"\"\n",
    "    return -2 if error  (page without wikiproject)\n",
    "    return -1 if the two pages are the same\n",
    "    else\n",
    "    return shortest path\n",
    "    \"\"\"\n",
    "    global pagesToWikiprojects\n",
    "    results = []\n",
    "    if page1==page2:\n",
    "        return -1   \n",
    "    try:\n",
    "        pages1Projects = pagesToWikiprojects.get(page1,[])\n",
    "        pages2Projects = pagesToWikiprojects.get(page2,[])\n",
    "    except:\n",
    "        return -2\n",
    "    for x,y in product(pages1Projects,pages2Projects):\n",
    "        try:\n",
    "            results.append(nx.shortest_path_length(Graph,x,y))\n",
    "        except:pass\n",
    "    if not results:\n",
    "        return -2\n",
    "    else:\n",
    "        return min(results)"
   ]
  },
  {
   "cell_type": "markdown",
   "metadata": {},
   "source": [
    "## Check topical span within an article (each article can belong to more than one wikiproject)"
   ]
  },
  {
   "cell_type": "code",
   "execution_count": 11,
   "metadata": {
    "collapsed": true
   },
   "outputs": [
    {
     "name": "stdout",
     "output_type": "stream",
     "text": [
      "1000000\n",
      "2000000\n",
      "3000000\n",
      "4000000\n",
      "5000000\n",
      "6000000\n",
      "7000000\n",
      "8000000\n",
      "9000000\n"
     ]
    }
   ],
   "source": [
    "withinPages = {'max':[],'min':[],'avg':[]}\n",
    "for n,page in enumerate(pages):\n",
    "    n+=1\n",
    "    if n%1000000 == 0: print(n)\n",
    "    try:\n",
    "        minD,maxD,avgD  = distanceProjects(G,pagesToWikiprojects[page])\n",
    "        withinPages['max'].append(maxD)\n",
    "        withinPages['min'].append(minD)\n",
    "        withinPages['avg'].append(avgD)\n",
    "    except:\n",
    "        pass\n",
    "\n"
   ]
  },
  {
   "cell_type": "code",
   "execution_count": 12,
   "metadata": {},
   "outputs": [
    {
     "name": "stdout",
     "output_type": "stream",
     "text": [
      "max 6.03269895356 [8]\n",
      "min 4.39872249077 [2]\n",
      "avg 5.34156664011 [ 5.]\n"
     ]
    }
   ],
   "source": [
    "import numpy as np\n",
    "from scipy import stats\n",
    "\n",
    "print('max',np.mean(withinPages['max']),stats.mode(withinPages['max'])[0])\n",
    "print('min',np.mean(withinPages['min']),stats.mode(withinPages['min'])[0])\n",
    "print('avg',np.mean(withinPages['avg']),stats.mode(withinPages['avg'])[0])\n"
   ]
  },
  {
   "cell_type": "markdown",
   "metadata": {},
   "source": [
    "## Topics popularity"
   ]
  },
  {
   "cell_type": "code",
   "execution_count": 10,
   "metadata": {},
   "outputs": [
    {
     "name": "stdout",
     "output_type": "stream",
     "text": [
      "6168981\n",
      "1791348\n",
      "11540\n"
     ]
    }
   ],
   "source": [
    "topicsPopularty = {}\n",
    "noProject = []\n",
    "noNamespace = []\n",
    "for n,page in enumerate(pages):\n",
    "    if str(page) in namespaces:\n",
    "        if namespaces.get(str(page)) == 0:\n",
    "            if page in pagesToWikiprojects:\n",
    "                for project in pagesToWikiprojects[page]:\n",
    "                    try:\n",
    "                        topicsPopularty[project]+=1\n",
    "                    except:\n",
    "                        topicsPopularty[project]=1\n",
    "            else:\n",
    "                noProject.append(page)\n",
    "    else:\n",
    "        noNamespace.append(page)\n",
    "\n",
    "\n",
    "print(sum(topicsPopularty.values()))\n",
    "print(len(noProject))\n",
    "print(len(noNamespace))\n"
   ]
  },
  {
   "cell_type": "code",
   "execution_count": 109,
   "metadata": {},
   "outputs": [
    {
     "name": "stdout",
     "output_type": "stream",
     "text": [
      "Percentage of pages without recognized wikiproject  0.22503441754731493\n"
     ]
    }
   ],
   "source": [
    "print('Percentage of pages without recognized wikiproject ',len(noProject)/(sum(topicsPopularty.values()) + len(noProject) ) )"
   ]
  },
  {
   "cell_type": "markdown",
   "metadata": {},
   "source": [
    "Note that this number refers to pages where our query https://quarry.wmflabs.org/query/23214] doesn't return a wikiproject. However, manually reviewing we found cases where the Wikiproject is not correctly (?) assigned as category in the Talk pages (example en:Classon_Avenue_(IND_Crosstown_Line) belongs to Wikiproject Trains, but that project is not listed as category). ** Future work **: Improve wikiproject to page retrival"
   ]
  },
  {
   "cell_type": "code",
   "execution_count": 15,
   "metadata": {},
   "outputs": [
    {
     "data": {
      "text/plain": [
       "[('WikiProject_Biography_articles', 1144535),\n",
       " ('WikiProject_United_States_articles', 237067),\n",
       " ('WikiProject_Football_articles', 189481),\n",
       " ('WikiProject_India_articles', 123567),\n",
       " ('WikiProject_Australia_articles', 119105),\n",
       " ('WikiProject_Film_articles', 113143),\n",
       " ('WikiProject_Albums_articles', 88987),\n",
       " ('WikiProject_Women_articles', 85922),\n",
       " ('WikiProject_Olympics_articles', 79904),\n",
       " ('WikiProject_Disambiguation_pages', 78454),\n",
       " ('WikiProject_Iran_articles', 68911),\n",
       " ('WikiProject_Television_articles', 67315),\n",
       " ('WikiProject_Geography_articles', 66089),\n",
       " ('WikiProject_Poland_articles', 63383),\n",
       " ('WikiProject_Africa_articles', 55175),\n",
       " ('WikiProject_College_football_articles', 46080),\n",
       " ('WikiProject_Japan_articles', 44943),\n",
       " ('WikiProject_Russia_articles', 39559),\n",
       " ('WikiProject_Elections_and_Referendums_articles', 37742),\n",
       " ('WikiProject_French_communes_articles', 37335),\n",
       " ('WikiProject_California_articles', 36914),\n",
       " ('WikiProject_Aviation_articles', 36550),\n",
       " ('WikiProject_China_articles', 35689),\n",
       " ('WikiProject_Companies_articles', 34961),\n",
       " ('WikiProject_Politics_articles', 33009),\n",
       " ('WikiProject_New_Zealand_articles', 32643),\n",
       " ('WikiProject_Video_games_articles', 32143),\n",
       " ('WikiProject_Baseball_articles', 31791),\n",
       " ('WikiProject_Ireland_articles', 31382),\n",
       " ('WikiProject_Stations_articles', 31115),\n",
       " ('WikiProject_England_pages', 30585),\n",
       " (\"WikiProject_Women's_History_articles\", 30143),\n",
       " ('WikiProject_Cricket_articles', 29784),\n",
       " ('WikiProject_Chicago_articles', 29695),\n",
       " ('WikiProject_Athletics_articles', 29389),\n",
       " ('WikiProject_Lists_articles', 27787),\n",
       " ('WikiProject_Visual_arts_articles', 25816),\n",
       " ('WikiProject_Insects_articles', 25304),\n",
       " ('WikiProject_Sweden_articles', 24234),\n",
       " ('WikiProject_Food_and_drink_articles', 23744),\n",
       " ('WikiProject_Women_writers_articles', 23642),\n",
       " ('WikiProject_National_Football_League_articles', 23458),\n",
       " ('WikiProject_Journalism_articles', 23323),\n",
       " ('WikiProject_Basketball_articles', 23184),\n",
       " ('WikiProject_Tennis_articles', 22892),\n",
       " ('WikiProject_Norway_articles', 22832),\n",
       " ('WikiProject_Law_articles', 21872),\n",
       " ('WikiProject_Catholicism_articles', 21775),\n",
       " ('WikiProject_Texas_articles', 20537),\n",
       " ('WikiProject_Brazil_articles', 20469)]"
      ]
     },
     "execution_count": 15,
     "metadata": {},
     "output_type": "execute_result"
    }
   ],
   "source": [
    "sorted(topicsPopularty.items(), key=lambda x: x[1],reverse=True)[0:50]"
   ]
  },
  {
   "cell_type": "markdown",
   "metadata": {},
   "source": [
    "## Check topical span of edit wars (pair of users where one has reverted more than 3 times another)"
   ]
  },
  {
   "cell_type": "code",
   "execution_count": 8,
   "metadata": {
    "collapsed": true
   },
   "outputs": [
    {
     "name": "stdout",
     "output_type": "stream",
     "text": [
      "47307\n"
     ]
    }
   ],
   "source": [
    "import json\n",
    "with open('interactions.json') as f:\n",
    "    interactions = json.load(f)\n",
    "print(len(interactions))"
   ]
  },
  {
   "cell_type": "code",
   "execution_count": null,
   "metadata": {},
   "outputs": [],
   "source": [
    "editWars = {}\n",
    "n=0\n",
    "for user1, user2dict in interactions.items():\n",
    "    n+=1\n",
    "    if n % 1000 ==0: print(n)\n",
    "    editWars[user1] = {}\n",
    "    for user2,reverts in user2dict.items():\n",
    "        if (user1 != user2) and (len(reverts) >2):\n",
    "            pages = [page for page,timestamp,delta,reverting_id,revered_id in reverts]        \n",
    "            distances = []\n",
    "            for page1,page2 in combinations(pages,2):\n",
    "                    minD = distancePages(G,page1,page2)\n",
    "                    distances.append(minD)\n",
    "            editWars[user1][user2] = (distances)\n",
    "    if not editWars[user1]: del editWars[user1]"
   ]
  },
  {
   "cell_type": "code",
   "execution_count": null,
   "metadata": {},
   "outputs": [],
   "source": [
    "with open('editWarsDistance.json','w') as f:\n",
    "    json.dump(editWars,f)"
   ]
  },
  {
   "cell_type": "markdown",
   "metadata": {},
   "source": [
    "editWarsDistance.json is dictionary where each entry represents the topic distance between all the pages where a user X reverted user Y\n",
    "\n",
    "Example: \n",
    "    editWarsDistance[UserA] = {userB:[-1,-1,0],userC:[1,2,-1]}\n",
    "    \n",
    "    Means that userA has reverted user B, and C, and the values on the list respresent the topic distance between all tha pair of pages. \n",
    "    "
   ]
  },
  {
   "cell_type": "code",
   "execution_count": 15,
   "metadata": {},
   "outputs": [],
   "source": [
    "with open('editWarsDistance.json') as f:\n",
    "    editWars = json.load(f)"
   ]
  },
  {
   "cell_type": "markdown",
   "metadata": {},
   "source": [
    "### Add here frecuency analyzis of reverts\n",
    "* Compute mode of reverts"
   ]
  },
  {
   "cell_type": "code",
   "execution_count": 16,
   "metadata": {},
   "outputs": [],
   "source": [
    "from scipy import stats\n",
    "\n",
    "revertsDistanceMode = []\n",
    "for user1,data in editWars.items():\n",
    "        for user2,distances in data.items():\n",
    "            cleanDistances = [ x for x in distances if x != -2] #remove -2, pages without wikiproject\n",
    "            if cleanDistances:\n",
    "                revertsDistanceMode.append(stats.mode(cleanDistances).mode[0])\n"
   ]
  },
  {
   "cell_type": "code",
   "execution_count": 17,
   "metadata": {},
   "outputs": [
    {
     "data": {
      "image/png": "[encoded data removed]",
      "text/plain": [
       "<matplotlib.figure.Figure at 0x7f13d73865f8>"
      ]
     },
     "metadata": {},
     "output_type": "display_data"
    },
    {
     "name": "stdout",
     "output_type": "stream",
     "text": [
      "|-\n",
      "| -1 || 0.7107\n",
      "|-\n",
      "| 0 || 0.2297\n",
      "|-\n",
      "| 4 || 0.0143\n",
      "|-\n",
      "| 5 || 0.0121\n",
      "|-\n",
      "| 2 || 0.0103\n",
      "|-\n",
      "| 3 || 0.0074\n",
      "|-\n",
      "| 6 || 0.0056\n",
      "|-\n",
      "| 7 || 0.0034\n",
      "|-\n",
      "| 8 || 0.0027\n",
      "|-\n",
      "| 1 || 0.0016\n",
      "|-\n",
      "| 9 || 0.0012\n",
      "|-\n",
      "| 10 || 0.0007\n",
      "|-\n",
      "| 11 || 0.0002\n",
      "|-\n",
      "| 12 || 0.0001\n"
     ]
    }
   ],
   "source": [
    "from collections import Counter\n",
    "import numpy as np\n",
    "import matplotlib.pyplot as plt\n",
    "\n",
    "count = Counter(revertsDistanceMode)\n",
    "\n",
    "labels, values = zip(* sorted([(int(x),y/len(revertsDistanceMode)) for x,y in count.items()]))\n",
    "\n",
    "indexes = np.arange(len(labels))\n",
    "width = 1\n",
    "\n",
    "plt.bar(indexes, values, width)\n",
    "plt.xticks(indexes + width * 0.5, labels)\n",
    "plt.yscale('log')\n",
    "plt.xlabel('Topical Distance of Reverts \\n (-1 means same page, 0 is different page but same topic)')\n",
    "plt.ylabel('% (log scale)')\n",
    "plt.savefig(\"modeDistanceOfReverts.png\")\n",
    "\n",
    "plt.show()\n",
    "\n",
    "for x, y in count.most_common(15):\n",
    "    print (\"|-\")\n",
    "    print(\"| %s || %s\" % (x,round(y/len(revertsDistanceMode),4)))\n",
    "\n"
   ]
  },
  {
   "cell_type": "markdown",
   "metadata": {},
   "source": [
    "# edtior focus "
   ]
  },
  {
   "cell_type": "code",
   "execution_count": 22,
   "metadata": {},
   "outputs": [],
   "source": [
    "import pandas as pd\n",
    "df = pd.read_csv('revs_2017_users_more_than_10_revs.txt.gz',sep='\\t')"
   ]
  },
  {
   "cell_type": "markdown",
   "metadata": {},
   "source": [
    "### 'Jumping' across topics ?\n",
    "UserDistance[userX] represent the sequence of topic 'jumps' in the next edition from userX. "
   ]
  },
  {
   "cell_type": "code",
   "execution_count": 23,
   "metadata": {
    "collapsed": true
   },
   "outputs": [
    {
     "name": "stdout",
     "output_type": "stream",
     "text": [
      "0\n",
      "1000\n",
      "2000\n",
      "3000\n",
      "4000\n",
      "5000\n",
      "6000\n",
      "7000\n",
      "8000\n",
      "9000\n",
      "10000\n",
      "11000\n",
      "12000\n",
      "13000\n",
      "14000\n",
      "15000\n",
      "16000\n",
      "17000\n",
      "18000\n",
      "19000\n",
      "20000\n",
      "21000\n",
      "22000\n",
      "23000\n",
      "24000\n",
      "25000\n",
      "26000\n",
      "27000\n",
      "28000\n",
      "29000\n",
      "30000\n",
      "31000\n",
      "32000\n",
      "33000\n",
      "34000\n",
      "35000\n",
      "36000\n",
      "37000\n",
      "38000\n",
      "39000\n",
      "40000\n",
      "41000\n",
      "42000\n",
      "43000\n",
      "44000\n",
      "45000\n",
      "46000\n",
      "47000\n",
      "48000\n",
      "49000\n",
      "50000\n",
      "51000\n",
      "52000\n",
      "53000\n",
      "54000\n",
      "55000\n",
      "56000\n",
      "57000\n",
      "58000\n",
      "59000\n",
      "60000\n",
      "61000\n",
      "62000\n",
      "63000\n",
      "64000\n",
      "65000\n",
      "66000\n",
      "67000\n",
      "68000\n",
      "69000\n",
      "70000\n",
      "71000\n",
      "72000\n",
      "73000\n",
      "74000\n",
      "75000\n",
      "76000\n",
      "77000\n",
      "78000\n",
      "79000\n",
      "80000\n",
      "81000\n",
      "82000\n",
      "83000\n",
      "84000\n",
      "85000\n",
      "86000\n",
      "87000\n",
      "88000\n",
      "89000\n",
      "90000\n",
      "91000\n",
      "92000\n",
      "93000\n",
      "94000\n",
      "95000\n",
      "96000\n",
      "97000\n",
      "98000\n",
      "99000\n",
      "100000\n",
      "101000\n",
      "102000\n",
      "103000\n",
      "104000\n",
      "105000\n",
      "106000\n",
      "107000\n",
      "108000\n",
      "109000\n",
      "110000\n",
      "111000\n",
      "112000\n",
      "113000\n",
      "114000\n",
      "115000\n",
      "116000\n",
      "117000\n",
      "118000\n",
      "119000\n",
      "120000\n",
      "121000\n",
      "122000\n",
      "123000\n",
      "124000\n",
      "125000\n",
      "126000\n",
      "127000\n",
      "128000\n"
     ]
    }
   ],
   "source": [
    "#with open('namespaces.json') as f:\n",
    "#    namespaces = json.load(f)\n",
    "# THIS PROCESS MIGHT TAKE TIME.\n",
    "from itertools import combinations\n",
    "userDistance = {}\n",
    "n = 0\n",
    "for user, data in df[['rev_page','rev_user','rev_timestamp']].sort_values('rev_timestamp').groupby(\"rev_user\"):\n",
    "    if n %10000 ==0: print(n)\n",
    "    n+=1\n",
    "    revs = [x for x in  data['rev_page']  if namespaces.get(x,False) == 0]\n",
    "    distance = []\n",
    "    for page1, page2 in zip(revs,revs[1:]):\n",
    "        distance.append(distancePages(G,page1,page2))\n",
    "    userDistance[user] = distance"
   ]
  },
  {
   "cell_type": "code",
   "execution_count": 26,
   "metadata": {},
   "outputs": [],
   "source": [
    "userDistanceEncoded = {}\n",
    "for user,data in userDistance.items():\n",
    "    userDistanceEncoded[str(user)] = data\n",
    "with open('userDistance.json','w') as f:\n",
    "    json.dump(userDistanceEncoded,f)"
   ]
  },
  {
   "cell_type": "code",
   "execution_count": 11,
   "metadata": {
    "collapsed": true
   },
   "outputs": [],
   "source": [
    "with open('userDistance.json') as f:\n",
    "    userDistance =json.load(f)"
   ]
  },
  {
   "cell_type": "code",
   "execution_count": 33,
   "metadata": {},
   "outputs": [
    {
     "data": {
      "image/png": "[encoded data removed]",
      "text/plain": [
       "<matplotlib.figure.Figure at 0x7f141a1e9cf8>"
      ]
     },
     "metadata": {},
     "output_type": "display_data"
    }
   ],
   "source": [
    "import itertools\n",
    "plt.close()\n",
    "tmp =list(itertools.chain(*userDistance.values()))\n",
    "plt.hist(tmp,bins=list(range(-1,10)),normed=1)\n",
    "plt.xlim([-1,10])\n",
    "plt.ylim([0,0.5])\n",
    "plt.xticks( [ x+0.5 for x in list(range(-1,10))], list(range(-1,10)))\n",
    "plt.ylabel('Ratio')\n",
    "plt.xlabel('Topic Distance for the \"next\" revision (all users)')\n",
    "\n",
    "plt.show()"
   ]
  },
  {
   "cell_type": "markdown",
   "metadata": {},
   "source": [
    "### Finding Probability of Jumping per user"
   ]
  },
  {
   "cell_type": "code",
   "execution_count": 103,
   "metadata": {},
   "outputs": [
    {
     "data": {
      "image/png": "[encoded data removed]",
      "text/plain": [
       "<matplotlib.figure.Figure at 0x7fd65ac2d4e0>"
      ]
     },
     "metadata": {},
     "output_type": "display_data"
    }
   ],
   "source": [
    "from collections import Counter\n",
    "jumpingProbability = {}\n",
    "mostFrequentPerUser = []\n",
    "for user, distances in userDistance.items():\n",
    "    jumpingProbability[user] = [ (distance,freq/len(distances)) for distance,freq in  Counter(distances).items()]\n",
    "    mostFrequentPerUser.append(Counter(distances).most_common(1)[0][0])\n",
    "plt.close()\n",
    "plt.hist(mostFrequentPerUser,bins=list(range(-1,10)),normed=1,cumulative=1)\n",
    "plt.xlim([-1,10])\n",
    "plt.ylim([0,1.1])\n",
    "plt.xticks( [ x+0.5 for x in list(range(-1,10))], list(range(-1,10)))\n",
    "plt.ylabel('Ratio')\n",
    "plt.xlabel('Most common \"next\" revision per user')\n",
    "plt.show()\n",
    "mostFrequentPerUser.most_common()"
   ]
  },
  {
   "cell_type": "code",
   "execution_count": 109,
   "metadata": {},
   "outputs": [
    {
     "data": {
      "text/plain": [
       "(array([ 0.8395282 ,  0.99246454,  0.99256184,  0.99355648,  0.99430246,\n",
       "         0.99685392,  0.998854  ,  0.99938376,  0.99963242,  1.        ]),\n",
       " array([-1,  0,  1,  2,  3,  4,  5,  6,  7,  8,  9]),\n",
       " <a list of 10 Patch objects>)"
      ]
     },
     "execution_count": 109,
     "metadata": {},
     "output_type": "execute_result"
    }
   ],
   "source": [
    "plt.hist(mostFrequentPerUser,bins=list(range(-1,10)),normed=1,cumulative=1)\n"
   ]
  },
  {
   "cell_type": "markdown",
   "metadata": {},
   "source": [
    "Here we see that 83.95% of users usually has their next revision on the same page, and 99.25% on the same topic. "
   ]
  },
  {
   "cell_type": "markdown",
   "metadata": {},
   "source": [
    "#### Longest 'jump' per user"
   ]
  },
  {
   "cell_type": "code",
   "execution_count": 113,
   "metadata": {},
   "outputs": [
    {
     "data": {
      "image/png": "[encoded data removed]",
      "text/plain": [
       "<matplotlib.figure.Figure at 0x7fd65721eef0>"
      ]
     },
     "metadata": {},
     "output_type": "display_data"
    }
   ],
   "source": [
    "from collections import Counter\n",
    "longest = []\n",
    "for user, distances in userDistance.items():\n",
    "    longest.append(max(distances))\n",
    "plt.close()\n",
    "plt.hist(longest,bins=list(range(-1,10)),normed=1)\n",
    "plt.xlim([-1,10])\n",
    "plt.ylim([0,0.4])\n",
    "plt.xticks( [ x+0.5 for x in list(range(-1,10))], list(range(-1,10)))\n",
    "plt.ylabel('Ratio')\n",
    "plt.xlabel('Longest jump per user')\n",
    "plt.show()\n"
   ]
  },
  {
   "cell_type": "code",
   "execution_count": 114,
   "metadata": {},
   "outputs": [
    {
     "data": {
      "text/plain": [
       "(array([ 0.36233049,  0.52880117,  0.53276033,  0.55703131,  0.58120923,\n",
       "         0.63221298,  0.71876454,  0.79161979,  0.85592224,  1.        ]),\n",
       " array([-1,  0,  1,  2,  3,  4,  5,  6,  7,  8,  9]),\n",
       " <a list of 10 Patch objects>)"
      ]
     },
     "execution_count": 114,
     "metadata": {},
     "output_type": "execute_result"
    }
   ],
   "source": [
    "plt.hist(longest,bins=list(range(-1,10)),normed=1,cumulative=1)\n"
   ]
  },
  {
   "cell_type": "code",
   "execution_count": 115,
   "metadata": {},
   "outputs": [
    {
     "data": {
      "text/plain": [
       "(array([ 1.        ,  0.63766951,  0.47119883,  0.46723967,  0.44296869,\n",
       "         0.41879077,  0.36778702,  0.28123546,  0.20838021,  0.14407776]),\n",
       " array([-1,  0,  1,  2,  3,  4,  5,  6,  7,  8,  9]),\n",
       " <a list of 10 Patch objects>)"
      ]
     },
     "execution_count": 115,
     "metadata": {},
     "output_type": "execute_result"
    }
   ],
   "source": [
    "plt.hist(longest,bins=list(range(-1,10)),normed=1,cumulative=-1)\n"
   ]
  },
  {
   "cell_type": "markdown",
   "metadata": {},
   "source": [
    "52.88% of users never jump  out of the same topic, but 41.88% jumps more than 4 steps"
   ]
  },
  {
   "cell_type": "markdown",
   "metadata": {},
   "source": [
    "# Cross-topic edit wars\n",
    "\n",
    "As seen before, there around 71% of the reverts on edit wars occurs in only one page, and 93% on the same topic. \n",
    "Here we study the ~7% of edit wars across topic topics"
   ]
  },
  {
   "cell_type": "code",
   "execution_count": 9,
   "metadata": {
    "collapsed": true
   },
   "outputs": [],
   "source": [
    "#with open('editWarsDistance.json') as f:\n",
    "#    editWars = json.load(f)\n",
    "with open('usersPercentOfReverts.json') as f:\n",
    "    usersPercentOfReverts = json.load(f)"
   ]
  },
  {
   "cell_type": "code",
   "execution_count": 18,
   "metadata": {},
   "outputs": [],
   "source": [
    "crossTopicEditWars = {}\n",
    "for user1, info in editWars.items():\n",
    "    for user2,distances in info.items():\n",
    "        if max(distances) > 0:\n",
    "            crossTopicEditWars[user1] = crossTopicEditWars.get(user1,{})\n",
    "            crossTopicEditWars[user1][user2] = distances"
   ]
  },
  {
   "cell_type": "code",
   "execution_count": 151,
   "metadata": {
    "collapsed": true
   },
   "outputs": [],
   "source": [
    "### Check bots"
   ]
  },
  {
   "cell_type": "code",
   "execution_count": 19,
   "metadata": {},
   "outputs": [
    {
     "name": "stdout",
     "output_type": "stream",
     "text": [
      "26\n"
     ]
    }
   ],
   "source": [
    "with open('user_posibleBots.json') as f:\n",
    "    bots = set(json.load(f))\n",
    "print(len(crossTopicEditWars.keys() & bots))"
   ]
  },
  {
   "cell_type": "code",
   "execution_count": 20,
   "metadata": {},
   "outputs": [],
   "source": [
    "for bot in bots & crossTopicEditWars.keys():\n",
    "    del(crossTopicEditWars[bot])"
   ]
  },
  {
   "cell_type": "code",
   "execution_count": 21,
   "metadata": {
    "collapsed": true
   },
   "outputs": [],
   "source": [
    "revertedBots = {}\n",
    "for user1,info in crossTopicEditWars.items():\n",
    "    for bot in  info.keys() & bots:\n",
    "        revertedBots[bot] = revertedBots.get(bot,0)\n",
    "        revertedBots[bot] += 1\n",
    "        del(crossTopicEditWars[user1][bot])"
   ]
  },
  {
   "cell_type": "code",
   "execution_count": 155,
   "metadata": {},
   "outputs": [
    {
     "data": {
      "text/plain": [
       "{'1215485': 2,\n",
       " '12406635': 1,\n",
       " '1310918': 1,\n",
       " '13286072': 349,\n",
       " '14394459': 1,\n",
       " '14508071': 5,\n",
       " '15270283': 1,\n",
       " '15449111': 3,\n",
       " '15996738': 2,\n",
       " '16266655': 3,\n",
       " '16283967': 1,\n",
       " '16752040': 2,\n",
       " '17216044': 13,\n",
       " '20611691': 9,\n",
       " '24649005': 9,\n",
       " '24684472': 54,\n",
       " '27015025': 30,\n",
       " '27446209': 7,\n",
       " '27823944': 7,\n",
       " '279219': 8,\n",
       " '28481209': 1,\n",
       " '28903366': 6,\n",
       " '29463730': 2,\n",
       " '30589160': 1,\n",
       " '30707369': 4,\n",
       " '31197275': 1,\n",
       " '31691822': 8,\n",
       " '31737083': 1,\n",
       " '31738379': 1,\n",
       " '32237108': 1,\n",
       " '4773966': 1,\n",
       " '4851336': 3,\n",
       " '6163802': 5,\n",
       " '7611264': 274,\n",
       " '7903804': 7,\n",
       " '9021902': 1,\n",
       " '9536040': 1}"
      ]
     },
     "execution_count": 155,
     "metadata": {},
     "output_type": "execute_result"
    }
   ],
   "source": [
    "revertedBots"
   ]
  },
  {
   "cell_type": "code",
   "execution_count": 28,
   "metadata": {},
   "outputs": [
    {
     "name": "stdout",
     "output_type": "stream",
     "text": [
      "840 6648 5759\n"
     ]
    }
   ],
   "source": [
    "#getting the total number of users (c) and pair of users (total)\n",
    "c = 0\n",
    "pairs = 0\n",
    "totalUsers = {}\n",
    "for user1,info in crossTopicEditWars.items():\n",
    "    pairs +=len(info)\n",
    "    if len(info) > 1: \n",
    "        c+=1\n",
    "    totalUsers[user1] = {}\n",
    "    for user2 in info.keys():\n",
    "        totalUsers[user2] = {}\n",
    "   \n",
    "   \n",
    "print(c,pairs,len(totalUsers))"
   ]
  },
  {
   "cell_type": "code",
   "execution_count": 158,
   "metadata": {},
   "outputs": [
    {
     "data": {
      "image/png": "[encoded data removed]",
      "text/plain": [
       "<matplotlib.figure.Figure at 0x7fd63f708630>"
      ]
     },
     "metadata": {},
     "output_type": "display_data"
    },
    {
     "name": "stdout",
     "output_type": "stream",
     "text": [
      "148\n"
     ]
    }
   ],
   "source": [
    "plt.close()\n",
    "warsPerUser = [len(x) for x in  crossTopicEditWars.values()]\n",
    "plt.hist(warsPerUser,bins=list(range(1,max(warsPerUser))),normed=1)\n",
    "plt.show()\n",
    "print(max(warsPerUser))"
   ]
  },
  {
   "cell_type": "markdown",
   "metadata": {},
   "source": [
    "## Number of users Reverted Comparison \n"
   ]
  },
  {
   "cell_type": "code",
   "execution_count": 23,
   "metadata": {
    "collapsed": true
   },
   "outputs": [],
   "source": [
    "with open('numberOfUsersReverted.json') as f:\n",
    "    numberOfUsersReverted = json.load(f)"
   ]
  },
  {
   "cell_type": "code",
   "execution_count": 181,
   "metadata": {},
   "outputs": [
    {
     "data": {
      "image/png": "[encoded data removed]",
      "text/plain": [
       "<matplotlib.figure.Figure at 0x7fd63288bda0>"
      ]
     },
     "metadata": {},
     "output_type": "display_data"
    }
   ],
   "source": [
    "plt.close()\n",
    "plt.hist(list(numberOfUsersReverted.values()),bins=list(range(1,40)),normed=1,  alpha=0.5, label='All Users with at least one revert done')\n",
    "plt.hist([numberOfUsersReverted[user] for user in editWars.keys()],bins=list(range(1,40)),normed=1,  alpha=0.5, label='Users in Edit Wars')\n",
    "plt.hist([numberOfUsersReverted[user] for user in crossTopicEditWars.keys()],bins=list(range(1,40)),normed=1,  alpha=0.5, label='Users in Cross-Topic edit wars')\n",
    "plt.xlabel('# users reverted')\n",
    "plt.legend(loc='upper right')\n",
    "plt.show()"
   ]
  },
  {
   "cell_type": "code",
   "execution_count": 185,
   "metadata": {
    "collapsed": true
   },
   "outputs": [],
   "source": [
    "revertingLessThanTenUsers = [ user for user in crossTopicEditWars.keys() if numberOfUsersReverted[user] <10 ]"
   ]
  },
  {
   "cell_type": "code",
   "execution_count": 186,
   "metadata": {},
   "outputs": [
    {
     "data": {
      "text/plain": [
       "492"
      ]
     },
     "execution_count": 186,
     "metadata": {},
     "output_type": "execute_result"
    }
   ],
   "source": [
    "len(revertingLessThanTenUsers)"
   ]
  },
  {
   "cell_type": "markdown",
   "metadata": {},
   "source": [
    "### Activity Comparison"
   ]
  },
  {
   "cell_type": "code",
   "execution_count": 45,
   "metadata": {
    "collapsed": true
   },
   "outputs": [],
   "source": []
  },
  {
   "cell_type": "code",
   "execution_count": 108,
   "metadata": {},
   "outputs": [
    {
     "data": {
      "image/png": "[encoded data removed]",
      "text/plain": [
       "<matplotlib.figure.Figure at 0x7f141d9f2f60>"
      ]
     },
     "metadata": {},
     "output_type": "display_data"
    }
   ],
   "source": [
    "plt.close()\n",
    "bins = list(range(10,10000,200))\n",
    "plt.hist(list(revsPerUser.values()),bins=bins,normed=1,  alpha=0.5, label='All Users with at least one revert done')\n",
    "plt.hist([revsPerUser[user] for user in editWars.keys()],bins=bins,normed=1,  alpha=0.5, label='Users in Edit Wars')\n",
    "plt.hist([revsPerUser[user] for user in crossTopicEditWars.keys()],bins=bins,normed=1,  alpha=0.5, label='Users in Cross-Topic edit wars')\n",
    "plt.xlabel('# users reverted')\n",
    "plt.legend(loc='upper right')\n",
    "plt.show()\n"
   ]
  },
  {
   "cell_type": "code",
   "execution_count": 105,
   "metadata": {},
   "outputs": [
    {
     "data": {
      "text/plain": [
       "1276038"
      ]
     },
     "execution_count": 105,
     "metadata": {},
     "output_type": "execute_result"
    }
   ],
   "source": [
    "max(revsPerUser.values())"
   ]
  },
  {
   "cell_type": "markdown",
   "metadata": {},
   "source": [
    "### Topical Behavior of users involved in cross-topic edit wars"
   ]
  },
  {
   "cell_type": "code",
   "execution_count": 43,
   "metadata": {},
   "outputs": [
    {
     "data": {
      "image/png": "[encoded data removed]",
      "text/plain": [
       "<matplotlib.figure.Figure at 0x7f146d5ca748>"
      ]
     },
     "metadata": {},
     "output_type": "display_data"
    }
   ],
   "source": [
    "\n",
    "plt.close()\n",
    "allUsersDistance =list([max(d) for d in userDistance.values()])\n",
    "editWarsDistance =list([max(userDistance[user]) for user in  editWars.keys()])\n",
    "crossTopicDistance =list([max(userDistance[user]) for user in  crossTopicEditWars.keys()])\n",
    "\n",
    "#plt.hist(allUsersDistance,bins=list(range(-1,9)),normed=1,  alpha=0.5, label='All Users with at least one revert done')\n",
    "plt.hist(editWarsDistance,bins=list(range(-1,9)),normed=1,  alpha=0.5, label='Users in Edit Wars')\n",
    "plt.hist(crossTopicDistance,bins=list(range(-1,9)),normed=1,  alpha=0.5, label='Users in Cross-Topic edit wars')\n",
    "plt.xlabel('# users reverted')\n",
    "plt.legend(loc='upper left')\n",
    "plt.show()\n",
    "plt.show()"
   ]
  },
  {
   "cell_type": "markdown",
   "metadata": {
    "collapsed": true
   },
   "source": [
    "# TODO compare the probability onf posting in a given topic\n",
    "\n"
   ]
  },
  {
   "cell_type": "code",
   "execution_count": 7,
   "metadata": {
    "collapsed": true
   },
   "outputs": [],
   "source": [
    "df = pd.read_csv('revs_2017_users_more_than_10_revs.txt.gz',sep='\\t')"
   ]
  },
  {
   "cell_type": "code",
   "execution_count": 24,
   "metadata": {
    "collapsed": true
   },
   "outputs": [],
   "source": [
    "crossTopicUsersList = totalUsers.keys()\n",
    "crossTopicUsersActivity = df[df['rev_user'].isin(crossTopicUsersList)]"
   ]
  },
  {
   "cell_type": "code",
   "execution_count": 26,
   "metadata": {
    "collapsed": true
   },
   "outputs": [],
   "source": [
    "del df"
   ]
  },
  {
   "cell_type": "code",
   "execution_count": 31,
   "metadata": {
    "collapsed": true
   },
   "outputs": [],
   "source": [
    "crossTopicUsersReverters = crossTopicUsersActivity[crossTopicUsersActivity['rev_user'].isin(list(crossTopicEditWars.keys()))]"
   ]
  },
  {
   "cell_type": "code",
   "execution_count": 32,
   "metadata": {},
   "outputs": [
    {
     "data": {
      "text/plain": [
       "(11818037, 5)"
      ]
     },
     "execution_count": 32,
     "metadata": {},
     "output_type": "execute_result"
    }
   ],
   "source": [
    "crossTopicUsersReverters.shape"
   ]
  },
  {
   "cell_type": "code",
   "execution_count": null,
   "metadata": {
    "collapsed": true
   },
   "outputs": [],
   "source": [
    "for user, data in crossTopicUsersReverters[['rev_page','rev_user','rev_timestamp']].sort_values('rev_timestamp').groupby(\"rev_user\"):\n",
    "    if n %100 ==0: print(n)\n",
    "    n+=1\n",
    "    revs = [x for x in  data['rev_page']  if namespaces.get(x,False) == 0]\n",
    "    distance = []\n",
    "    for page1, page2 in zip(revs,revs[1:]):\n",
    "        distance.append(distancePages(G,page1,page2))\n",
    "    userDistance[user] = distance"
   ]
  }
 ],
 "metadata": {
  "kernelspec": {
   "display_name": "Python 3",
   "language": "python",
   "name": "python3"
  },
  "language_info": {
   "codemirror_mode": {
    "name": "ipython",
    "version": 3
   },
   "file_extension": ".py",
   "mimetype": "text/x-python",
   "name": "python",
   "nbconvert_exporter": "python",
   "pygments_lexer": "ipython3",
   "version": "3.5.2"
  }
 },
 "nbformat": 4,
 "nbformat_minor": 2
}
