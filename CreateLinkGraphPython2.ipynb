{
 "cells": [
  {
   "cell_type": "markdown",
   "metadata": {},
   "source": [
    "# Create a Historical Link Graph for Wikipedia\n",
    "\n",
    "https://phabricator.wikimedia.org/T186558\n",
    "\n",
    "note that in this notebook spark context is already created by the DRIVER. To run this notebook, execute:\n",
    "\n",
    "* export PYSPARK_DRIVER_PYTHON=jupyter \n",
    "* export PYSPARK_DRIVER_PYTHON_OPTS='notebook'\n",
    "* pyspark2 --master yarn --deploy-mode client --executor-memory 2g --conf spark.dynamicAllocation.maxExecutors=32 \n",
    "\n",
    "If you are executing this script with spark-submit, you should add an init function like this;\n",
    "\n",
    "def spark_init():\n",
    "    ### Initialize spark context and quiet logs\n",
    "    sc = SparkContext()\n",
    "    log4j = sc._jvm.org.apache.log4j\n",
    "    log4j.LogManager.getRootLogger().setLevel(log4j.Level.ERROR)\n",
    "    sqlctx = HiveContext(sc)\n",
    "    return sc, sqlctx\n",
    "\n",
    "sc, sqlContext = spark_init()"
   ]
  },
  {
   "cell_type": "markdown",
   "metadata": {},
   "source": [
    "## Define UDF to get wikilinks"
   ]
  },
  {
   "cell_type": "code",
   "execution_count": null,
   "metadata": {},
   "outputs": [],
   "source": [
    "from pyspark.sql.functions import udf\n",
    "import re\n",
    "\n",
    "def getWikilinks(wikitext): #UDF to get wikipedia pages titles\n",
    "    links  = re.findall(\"\\[\\[(.*?)\\]\\]\",wikitext) #get wikilinks\n",
    "    titles = [link.split('|')[0] for link in links] #get pages\n",
    "    return titles\n",
    "\n",
    "udfGetWikilinks = udf(getWikilinks)\n"
   ]
  },
  {
   "cell_type": "markdown",
   "metadata": {},
   "source": [
    "## Loading parquet dump\n",
    "To create  the parquet dump from XML, follow this ticket this ticket: https://phabricator.wikimedia.org/T186559#3977087"
   ]
  },
  {
   "cell_type": "code",
   "execution_count": null,
   "metadata": {},
   "outputs": [],
   "source": [
    "df = spark.read.parquet('hdfs:///user/joal/wmf/data/wmf/mediawiki/wikitext/snapshot=2018-01/enwiki')\n"
   ]
  },
  {
   "cell_type": "code",
   "execution_count": null,
   "metadata": {},
   "outputs": [],
   "source": [
    "df2 = df.where('page_namespace  ==0')"
   ]
  },
  {
   "cell_type": "code",
   "execution_count": null,
   "metadata": {},
   "outputs": [],
   "source": [
    "df2 = df.withColumn('wikilinks',udfGetWikilinks(df.revision_text))\n"
   ]
  },
  {
   "cell_type": "code",
   "execution_count": null,
   "metadata": {},
   "outputs": [],
   "source": [
    "df2.show()"
   ]
  },
  {
   "cell_type": "code",
   "execution_count": null,
   "metadata": {},
   "outputs": [],
   "source": [
    "df2 = df2.select('page_id','revision_id','wikilinks')"
   ]
  },
  {
   "cell_type": "code",
   "execution_count": null,
   "metadata": {},
   "outputs": [],
   "source": [
    "df2.show()"
   ]
  },
  {
   "cell_type": "code",
   "execution_count": null,
   "metadata": {},
   "outputs": [],
   "source": [
    "query = \"SELECT revision_id,event_timestamp,page_title  from wmf.mediawiki_history WHERE wiki_db='enwiki' AND page_namespace=0 and snapshot='2018-01'\"\n",
    "result = spark.sql(query)"
   ]
  },
  {
   "cell_type": "code",
   "execution_count": null,
   "metadata": {},
   "outputs": [],
   "source": [
    "allInfo = df2.join(result,'revision_id')\n",
    "allInfo.show()"
   ]
  },
  {
   "cell_type": "code",
   "execution_count": null,
   "metadata": {},
   "outputs": [],
   "source": [
    "allInfo.write.parquet('linkGraph_es.parquet')"
   ]
  },
  {
   "cell_type": "code",
   "execution_count": null,
   "metadata": {},
   "outputs": [],
   "source": []
  }
 ],
 "metadata": {
  "kernelspec": {
   "display_name": "Python 2",
   "language": "python",
   "name": "python2"
  },
  "language_info": {
   "codemirror_mode": {
    "name": "ipython",
    "version": 2
   },
   "file_extension": ".py",
   "mimetype": "text/x-python",
   "name": "python",
   "nbconvert_exporter": "python",
   "pygments_lexer": "ipython2",
   "version": "2.7.13"
  }
 },
 "nbformat": 4,
 "nbformat_minor": 2
}
