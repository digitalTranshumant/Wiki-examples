{
 "cells": [
  {
   "cell_type": "markdown",
   "metadata": {},
   "source": [
    "# Crawler for wikipedia categories\n",
    "\n",
    "* Example starting from wikiprojects\n"
   ]
  },
  {
   "cell_type": "code",
   "execution_count": 13,
   "metadata": {},
   "outputs": [],
   "source": [
    "from urllib.request import urlopen\n",
    "from bs4 import BeautifulSoup\n",
    "import networkx as nx\n",
    "from time import sleep\n",
    "from random import random\n",
    "import pickle\n",
    "\n",
    "def getLinks(url):\n",
    "    try:\n",
    "        html = urlopen(url) # Insert your URL to extract\n",
    "    except:\n",
    "        return []\n",
    "    bsObj = BeautifulSoup(html.read())\n",
    "    links = []\n",
    "    for link in bsObj.find_all('a'):\n",
    "        if link.get('href'):\n",
    "            links.append(link.get('href'))\n",
    "    return links\n",
    "\n",
    "def filterCagetories(links,banned,prefix=\"/wiki/Category:\"):\n",
    "    return [ l for l in links if (prefix in l )and (l not in banned) and (\"https:\" not in l) and (\"en.wikipedia.org\" not in l)]\n"
   ]
  },
  {
   "cell_type": "markdown",
   "metadata": {},
   "source": [
    "### Setup"
   ]
  },
  {
   "cell_type": "code",
   "execution_count": 14,
   "metadata": {},
   "outputs": [],
   "source": [
    "\n",
    "#setup\n",
    "prexif = \"/wiki/Category:\" #setup the links that you want to follow, for example '/wiki/Category' to crawl categories\n",
    "base_url = \"https://en.wikipedia.org\" # setup the language, e.g. spanish use \"https://en.wikipedia.org\"\n",
    "root = \"/Wikipedia:WikiProject_Council/Directory\" # select starting page\n",
    "banned = [\"/wiki/Category:Wikipedia_WikiProject\",\"/wiki/Category:WikiProjects\",\n",
    "          \"/wiki/Category:Categories_requiring_diffusion\",\"/wiki/Category:WikiProjects_by_topic\",\n",
    "          \"/wiki/Category:Wikipedia_WikiProjects\",\"/wiki/Category:WikiProjects_by_discipline\",\n",
    "         \"/wiki/Category:Wikipedia_administration_by_topic\"] # list of links that you DON'T want to fllow\n",
    "\n"
   ]
  },
  {
   "cell_type": "code",
   "execution_count": 10,
   "metadata": {},
   "outputs": [
    {
     "data": {
      "text/plain": [
       "<http.client.HTTPResponse at 0x7fa68cfbf828>"
      ]
     },
     "execution_count": 10,
     "metadata": {},
     "output_type": "execute_result"
    }
   ],
   "source": [
    "#init\n",
    "\n",
    "visited = []\n",
    "G = nx.Graph()\n",
    "stack = [root]\n",
    "while stack:\n",
    "    sleep(0.1+random()*1)\n",
    "    #print(stack)\n",
    "    current = stack.pop()\n",
    "    childs = filterCagetories(getLinks(base_url + current),banned)\n",
    "    #print(childs)\n",
    "    visited.append(current)\n",
    "    print(current)\n",
    "    for c in childs:\n",
    "        G.add_edge(c,current)\n",
    "        if c not in visited+stack:\n",
    "            stack.append(c)\n",
    "            \n",
    "            "
   ]
  },
  {
   "cell_type": "code",
   "execution_count": null,
   "metadata": {
    "collapsed": true
   },
   "outputs": [],
   "source": [
    "with open('linksGraph.pickle','w') as f:\n",
    "    pickle.dump(G,f)"
   ]
  }
 ],
 "metadata": {
  "kernelspec": {
   "display_name": "Python 3",
   "language": "python",
   "name": "python3"
  },
  "language_info": {
   "codemirror_mode": {
    "name": "ipython",
    "version": 3
   },
   "file_extension": ".py",
   "mimetype": "text/x-python",
   "name": "python",
   "nbconvert_exporter": "python",
   "pygments_lexer": "ipython3",
   "version": "3.5.2"
  }
 },
 "nbformat": 4,
 "nbformat_minor": 2
}
