{
 "cells": [
  {
   "cell_type": "markdown",
   "metadata": {},
   "source": [
    "### Dependencies\n",
    "* https://gist.githubusercontent.com/sixtenbe/1178136/raw/deb306a4ff697d33a4d069d59a6706ccd2be7f83/peakdetect.py  (download and put in the notebook folder)"
   ]
  },
  {
   "cell_type": "code",
   "execution_count": 220,
   "metadata": {
    "collapsed": true
   },
   "outputs": [],
   "source": [
    "%matplotlib inline\n",
    "import csv\n",
    "import json\n",
    "import time\n",
    "import sys\n",
    "from concurrent.futures import ThreadPoolExecutor\n",
    "\n",
    "import requests\n",
    "import mwapi\n",
    "import mwtypes\n",
    "import pandas\n",
    "import seaborn"
   ]
  },
  {
   "cell_type": "code",
   "execution_count": 221,
   "metadata": {
    "collapsed": true
   },
   "outputs": [],
   "source": [
    "session = mwapi.Session(\"https://en.wikipedia.org\", user_agent=\"ahalfaker@wikimedia.org -- IWSC demo\")"
   ]
  },
  {
   "cell_type": "code",
   "execution_count": 222,
   "metadata": {
    "collapsed": true
   },
   "outputs": [],
   "source": [
    "WEIGHTS = {'Stub': 1, 'Start': 2, 'C': 3, 'B': 4, 'GA': 5, 'FA': 6}\n",
    "def score2sum(score_doc):\n",
    "    if score_doc is None:\n",
    "        return None\n",
    "    weighted_sum = 0\n",
    "    for cl, proba in score_doc['probability'].items():\n",
    "        weighted_sum += WEIGHTS[cl] * proba\n",
    "    return weighted_sum"
   ]
  },
  {
   "cell_type": "code",
   "execution_count": 223,
   "metadata": {
    "collapsed": true
   },
   "outputs": [],
   "source": [
    "def fetch_wp10_score(rev_id):\n",
    "    response = requests.get('https://ores.wikimedia.org/v3/scores/enwiki/{0}/wp10'.format(rev_id))\n",
    "    try:\n",
    "        return response.json()['enwiki']['scores'][str(rev_id)]['wp10']['score']\n",
    "    except:\n",
    "        return None\n",
    "\n",
    "\n",
    "def fetch_wp10_scores(rev_ids):\n",
    "    executor = ThreadPoolExecutor(max_workers=8)\n",
    "    return executor.map(fetch_wp10_score, rev_ids)\n",
    "\n",
    "def fetch_historical_scores(page_name):\n",
    "    historical_scores = []\n",
    "    for response_doc in session.get(action='query', prop='revisions', titles=page_name, \n",
    "                                    rvprop=['ids', 'timestamp','user'], rvlimit=100, rvdir=\"newer\", \n",
    "                                    formatversion=2, continuation=True):\n",
    "        rev_docs = response_doc['query']['pages'][0]['revisions']\n",
    "        rev_ids = [d['revid'] for d in rev_docs]\n",
    "        for rev_doc, score_doc in zip(rev_docs, fetch_wp10_scores(rev_ids)):\n",
    "            rev_id = rev_doc['revid']\n",
    "            user = rev_doc['user']\n",
    "            timestamp = mwtypes.Timestamp(rev_doc['timestamp'])\n",
    "            weighted_sum = score2sum(score_doc)\n",
    "            historical_scores.append({'rev_id': rev_id, 'timestamp': timestamp, 'weighted_sum': weighted_sum,'user':user})\n",
    "            sys.stderr.write(\".\")\n",
    "            sys.stderr.flush()\n",
    "        sys.stderr.write(\"\\n\")\n",
    "    \n",
    "    return historical_scores\n"
   ]
  },
  {
   "cell_type": "code",
   "execution_count": 224,
   "metadata": {
    "collapsed": true
   },
   "outputs": [],
   "source": [
    "def oresToPandas(title):\n",
    "    historical_scores = pandas.DataFrame(fetch_historical_scores(title))\n",
    "    historical_scores['time'] =pandas.to_datetime(historical_scores.timestamp, format='%Y-%m-%dT%H:%M:%SZ',errors='ignore')\n",
    "    historical_scores = historical_scores.set_index('time')\n",
    "    return historical_scores"
   ]
  },
  {
   "cell_type": "code",
   "execution_count": 225,
   "metadata": {},
   "outputs": [
    {
     "name": "stderr",
     "output_type": "stream",
     "text": [
      "....................................................................................................\n",
      "....................................................................................................\n",
      "....................................................................................................\n",
      "....................................................................................................\n",
      "....................................................................................................\n",
      "....................................................................................................\n",
      "....................................................................................................\n",
      "....................................................................................................\n",
      "....................................................................................................\n",
      "....................................................................................................\n",
      "....................................................................................................\n",
      "....................................................................................................\n",
      "....................................................................................................\n",
      "....................................................................................................\n",
      "....................................................................................................\n",
      "....................................................................................................\n",
      "....................................................................................................\n",
      "....................................................................................................\n",
      "....................................................................................................\n",
      "....................................................................................................\n",
      "....................................................................................................\n",
      "....................................................................................................\n",
      "....................................................................................................\n",
      "....................................................................................................\n",
      "....................................................................................................\n",
      "....................................................................................................\n",
      "....................................................................................................\n",
      "....................................................................................................\n",
      "....................................................................................................\n",
      "....................................................................................................\n",
      "....................................................................................................\n",
      "....................................................................................................\n",
      "....................................................................................................\n",
      "....................................................................................................\n",
      "....................................................................................................\n",
      "....................................................................................................\n",
      "....................................................................................................\n",
      "....................................................................................................\n",
      "....................................................................................................\n",
      "....................................................................................................\n",
      "..........................................................................\n"
     ]
    }
   ],
   "source": [
    "data=oresToPandas('Ada Lovelace')"
   ]
  },
  {
   "cell_type": "code",
   "execution_count": 235,
   "metadata": {
    "collapsed": true
   },
   "outputs": [],
   "source": [
    "from peakdetect import peakdetect\n",
    "from collections import Counter\n",
    "def plotAndPeaks(df):\n",
    "    indexes = peakdetect(df.weighted_sum, lookahead=1,delta=1)\n",
    "    print('Max')\n",
    "    for i in indexes[0]:\n",
    "        print(df.index[i[0]],'https://en.wikipedia.org/w/?diff=prev&oldid=%s' % df.rev_id[i[0]],df.user[i[0]])\n",
    "    print('Min')\n",
    "    for i in indexes[1]:\n",
    "        print(df.index[i[0]],'https://en.wikipedia.org/w/?diff=prev&oldid=%s' % df.rev_id[i[0]],df.user[i[0]],df.weighted_sum[i[0]])\n",
    "    return df['weighted_sum'].plot()\n",
    "\n",
    "def vandalCandidates(df):\n",
    "    vandals = []\n",
    "    indexes = peakdetect(df.weighted_sum, lookahead=1, delta=1)\n",
    "    for i in indexes[1]:\n",
    "        vandals.append(df.user[i[0]])\n",
    "        #print(df.index[i[0]],'https://en.wikipedia.org/w/?diff=prev&oldid=%s' % df.rev_id[i[0]],df.user[i[0]])\n",
    "    candidates = [x for x,y in Counter(vandals).most_common(5)]\n",
    "    for i in indexes[1]:\n",
    "        if df.user[i[0]] in candidates:\n",
    "            #print(df.index[i[0]-1],'https://en.wikipedia.org/w/?diff=prev&oldid=%s' % df.rev_id[i[0]],df.user[i[0]])\n",
    "            pass\n",
    "    print(candidates)\n",
    "    return None\n",
    " \n",
    "    \n",
    "    \n"
   ]
  },
  {
   "cell_type": "code",
   "execution_count": 236,
   "metadata": {},
   "outputs": [
    {
     "name": "stdout",
     "output_type": "stream",
     "text": [
      "Max\n",
      "2005-08-26 20:05:17 https://en.wikipedia.org/w/?diff=prev&oldid=21905286 Nomalam\n",
      "2005-12-10 12:21:50 https://en.wikipedia.org/w/?diff=prev&oldid=30816572 85.157.99.138\n",
      "2005-12-13 14:32:26 https://en.wikipedia.org/w/?diff=prev&oldid=31192184 Hu\n",
      "2006-02-24 15:30:32 https://en.wikipedia.org/w/?diff=prev&oldid=41023078 Misza13\n",
      "2006-05-21 12:40:04 https://en.wikipedia.org/w/?diff=prev&oldid=54345388 Craigy144\n",
      "2006-09-07 09:30:06 https://en.wikipedia.org/w/?diff=prev&oldid=74303744 Glen\n",
      "2006-10-12 23:26:32 https://en.wikipedia.org/w/?diff=prev&oldid=81106220 63.101.39.6\n",
      "2006-11-02 05:54:45 https://en.wikipedia.org/w/?diff=prev&oldid=85203776 24.84.204.9\n",
      "2007-01-31 22:06:00 https://en.wikipedia.org/w/?diff=prev&oldid=104685653 82.55.80.46\n",
      "2007-03-06 18:55:11 https://en.wikipedia.org/w/?diff=prev&oldid=113118512 216.20.110.226\n",
      "2007-09-29 04:17:12 https://en.wikipedia.org/w/?diff=prev&oldid=161055437 Ihope127\n",
      "2008-04-04 02:23:20 https://en.wikipedia.org/w/?diff=prev&oldid=203199546 99.163.149.222\n",
      "2008-09-01 07:13:41 https://en.wikipedia.org/w/?diff=prev&oldid=235541604 68.73.95.146\n",
      "2008-09-22 09:04:57 https://en.wikipedia.org/w/?diff=prev&oldid=240187599 213.162.200.18\n",
      "2009-01-23 18:03:57 https://en.wikipedia.org/w/?diff=prev&oldid=265951288 88.235.61.242\n",
      "2009-04-01 16:58:37 https://en.wikipedia.org/w/?diff=prev&oldid=281107492 168.9.210.14\n",
      "2009-05-17 23:18:45 https://en.wikipedia.org/w/?diff=prev&oldid=290608137 Rich Farmbrough\n",
      "2012-06-10 11:29:06 https://en.wikipedia.org/w/?diff=prev&oldid=496887313 2.217.135.199\n",
      "2012-12-25 01:48:26 https://en.wikipedia.org/w/?diff=prev&oldid=529670318 Shinsei12\n",
      "2013-09-04 22:41:55 https://en.wikipedia.org/w/?diff=prev&oldid=571573693 2001:5B0:21FF:2CF0:0:0:0:34\n",
      "2014-03-21 17:39:13 https://en.wikipedia.org/w/?diff=prev&oldid=600623119 2.123.222.183\n",
      "2014-04-07 08:09:56 https://en.wikipedia.org/w/?diff=prev&oldid=603120005 222.153.15.14\n",
      "2015-09-27 13:51:32 https://en.wikipedia.org/w/?diff=prev&oldid=683003760 201.215.213.40\n",
      "2016-03-16 05:17:43 https://en.wikipedia.org/w/?diff=prev&oldid=710308707 120.28.14.130\n",
      "2017-10-01 08:07:13 https://en.wikipedia.org/w/?diff=prev&oldid=803230763 2A02:C7D:2657:A900:382A:5AEC:FF33:5E46\n",
      "Min\n",
      "2005-11-21 17:10:23 https://en.wikipedia.org/w/?diff=prev&oldid=28917096 70.89.137.17 2.70520476616\n",
      "2005-12-13 13:16:35 https://en.wikipedia.org/w/?diff=prev&oldid=31185641 198.111.152.212 2.10757876159\n",
      "2006-02-24 14:56:19 https://en.wikipedia.org/w/?diff=prev&oldid=41019037 168.9.44.2 1.93164209325\n",
      "2006-02-24 15:45:07 https://en.wikipedia.org/w/?diff=prev&oldid=41024762 168.9.44.2 1.51303629637\n",
      "2006-09-07 09:27:05 https://en.wikipedia.org/w/?diff=prev&oldid=74303456 194.83.69.174 2.31075914906\n",
      "2006-09-11 04:00:21 https://en.wikipedia.org/w/?diff=prev&oldid=75036110 203.189.4.17 1.94446685013\n",
      "2006-10-24 15:29:16 https://en.wikipedia.org/w/?diff=prev&oldid=83438074 216.182.14.18 1.54946917353\n",
      "2007-01-31 21:01:36 https://en.wikipedia.org/w/?diff=prev&oldid=104669734 72.185.84.110 1.51189312086\n",
      "2007-02-20 18:04:49 https://en.wikipedia.org/w/?diff=prev&oldid=109603179 82.8.38.198 1.5159185477\n",
      "2007-09-28 02:22:43 https://en.wikipedia.org/w/?diff=prev&oldid=160832355 60.241.239.77 1.56042412713\n",
      "2008-03-20 18:35:47 https://en.wikipedia.org/w/?diff=prev&oldid=199645471 129.120.226.247 1.93164209325\n",
      "2008-05-11 22:39:15 https://en.wikipedia.org/w/?diff=prev&oldid=211747344 68.73.83.49 1.60654547883\n",
      "2008-09-19 22:44:01 https://en.wikipedia.org/w/?diff=prev&oldid=239670821 65.3.65.54 1.93164209325\n",
      "2009-01-05 15:10:25 https://en.wikipedia.org/w/?diff=prev&oldid=262099971 168.169.37.78 1.93164209325\n",
      "2009-03-03 15:36:00 https://en.wikipedia.org/w/?diff=prev&oldid=274701619 Rx360 1.93164209325\n",
      "2009-04-01 17:00:08 https://en.wikipedia.org/w/?diff=prev&oldid=281107788 168.9.210.14 2.15537173066\n",
      "2012-03-01 18:54:37 https://en.wikipedia.org/w/?diff=prev&oldid=479692797 165.138.26.187 1.93164209325\n",
      "2012-07-26 15:47:00 https://en.wikipedia.org/w/?diff=prev&oldid=504284305 Saehry 3.31271350788\n",
      "2013-08-31 12:57:28 https://en.wikipedia.org/w/?diff=prev&oldid=570940270 Remotelysensed 3.45936972498\n",
      "2013-09-24 13:44:05 https://en.wikipedia.org/w/?diff=prev&oldid=574321443 81.134.65.245 3.51836562004\n",
      "2014-03-28 18:01:22 https://en.wikipedia.org/w/?diff=prev&oldid=601685734 Rms125a@hotmail.com 3.70868516634\n",
      "2015-09-10 08:35:12 https://en.wikipedia.org/w/?diff=prev&oldid=680346288 Kjamesbailey 1.51067076509\n",
      "2016-02-28 08:47:10 https://en.wikipedia.org/w/?diff=prev&oldid=707343821 Alumnum 3.8622240694\n",
      "2016-03-24 08:20:07 https://en.wikipedia.org/w/?diff=prev&oldid=711702906 82.214.61.50 1.54946917353\n"
     ]
    },
    {
     "data": {
      "text/plain": [
       "<matplotlib.axes._subplots.AxesSubplot at 0x7f2e3cdb31d0>"
      ]
     },
     "execution_count": 236,
     "metadata": {},
     "output_type": "execute_result"
    },
    {
     "data": {
      "image/png": "[encoded data removed]",
      "text/plain": [
       "<matplotlib.figure.Figure at 0x7f2e27871898>"
      ]
     },
     "metadata": {},
     "output_type": "display_data"
    }
   ],
   "source": [
    "plotAndPeaks(data)"
   ]
  },
  {
   "cell_type": "code",
   "execution_count": 237,
   "metadata": {
    "scrolled": true
   },
   "outputs": [
    {
     "name": "stdout",
     "output_type": "stream",
     "text": [
      "['168.9.44.2', '70.89.137.17', '198.111.152.212', '194.83.69.174', '203.189.4.17']\n"
     ]
    }
   ],
   "source": [
    "vandalCandidates(data)\n"
   ]
  },
  {
   "cell_type": "code",
   "execution_count": null,
   "metadata": {
    "collapsed": true
   },
   "outputs": [],
   "source": []
  }
 ],
 "metadata": {
  "kernelspec": {
   "display_name": "Python 3",
   "language": "python",
   "name": "python3"
  },
  "language_info": {
   "codemirror_mode": {
    "name": "ipython",
    "version": 3
   },
   "file_extension": ".py",
   "mimetype": "text/x-python",
   "name": "python",
   "nbconvert_exporter": "python",
   "pygments_lexer": "ipython3",
   "version": "3.6.1"
  }
 },
 "nbformat": 4,
 "nbformat_minor": 2
}
